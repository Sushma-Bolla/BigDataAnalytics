{
 "cells": [
  {
   "cell_type": "markdown",
   "id": "0f68e0e8-23eb-4343-be36-00d7a06b7ba4",
   "metadata": {},
   "source": [
    "# Data Transformation like filtering even numbers using PySpark"
   ]
  },
  {
   "cell_type": "code",
   "execution_count": 1,
   "id": "526ac9a6-6119-44ef-9f05-aecd5031939d",
   "metadata": {},
   "outputs": [
    {
     "data": {
      "text/html": [
       "\n",
       "        <div>\n",
       "            <p><b>SparkContext</b></p>\n",
       "\n",
       "            <p><a href=\"http://172.20.10.8:4041\">Spark UI</a></p>\n",
       "\n",
       "            <dl>\n",
       "              <dt>Version</dt>\n",
       "                <dd><code>v4.0.1</code></dd>\n",
       "              <dt>Master</dt>\n",
       "                <dd><code>local[*]</code></dd>\n",
       "              <dt>AppName</dt>\n",
       "                <dd><code>PySparkShell</code></dd>\n",
       "            </dl>\n",
       "        </div>\n",
       "        "
      ],
      "text/plain": [
       "<SparkContext master=local[*] appName=PySparkShell>"
      ]
     },
     "execution_count": 1,
     "metadata": {},
     "output_type": "execute_result"
    }
   ],
   "source": [
    "sc"
   ]
  },
  {
   "cell_type": "code",
   "execution_count": 1,
   "id": "dfc211f3-735d-4154-a5c2-92233a5c6b9e",
   "metadata": {},
   "outputs": [],
   "source": [
    "import random"
   ]
  },
  {
   "cell_type": "code",
   "execution_count": 15,
   "id": "970baf81-eb93-4e3e-9f23-efd84577374a",
   "metadata": {},
   "outputs": [
    {
     "name": "stdout",
     "output_type": "stream",
     "text": [
      "Original List:\n",
      "[588, 513, 421, 236, 119, 890, 548, 139, 256, 409, 66, 526, 75, 260, 720, 412, 960, 863, 552, 302, 44, 40, 499, 731, 598, 269, 146, 525, 733, 46, 737, 743, 720, 487, 915, 961, 288, 197, 767, 105, 757, 722, 105, 497, 578, 156, 668, 561, 629, 809, 845, 643, 905, 948, 513, 797, 875, 993, 660, 244, 672, 522, 470, 956, 118, 577, 221, 614, 687, 536, 109, 257, 268, 596, 802, 15, 617, 607, 477, 452, 333, 241, 524, 512, 515, 841, 527, 327, 425, 214, 927, 9, 149, 408, 848, 532, 278, 632, 467, 699]\n"
     ]
    }
   ],
   "source": [
    "random_numbers = [random.randint(1, 1000) for _ in range(100)]\n",
    "print(\"Original List:\")\n",
    "print(random_numbers)"
   ]
  },
  {
   "cell_type": "code",
   "execution_count": 17,
   "id": "fc4c7ab8-663c-4d62-ba8e-b627d4e37d90",
   "metadata": {},
   "outputs": [],
   "source": [
    "numbers_rdd = sc.parallelize(random_numbers)"
   ]
  },
  {
   "cell_type": "code",
   "execution_count": 19,
   "id": "32a30174-dc5a-4dce-8aee-7e729488432b",
   "metadata": {},
   "outputs": [],
   "source": [
    "even_numbers_rdd = numbers_rdd.filter(lambda x: x % 2 == 0)"
   ]
  },
  {
   "cell_type": "code",
   "execution_count": 21,
   "id": "018de0c5-3126-40d5-bf6b-2544d71c5929",
   "metadata": {},
   "outputs": [
    {
     "name": "stdout",
     "output_type": "stream",
     "text": [
      "\n",
      "Even Numbers:\n",
      "[588, 236, 890, 548, 256, 66, 526, 260, 720, 412, 960, 552, 302, 44, 40, 598, 146, 46, 720, 288, 722, 578, 156, 668, 948, 660, 244, 672, 522, 470, 956, 118, 614, 536, 268, 596, 802, 452, 524, 512, 214, 408, 848, 532, 278, 632]\n"
     ]
    }
   ],
   "source": [
    "even_numbers = even_numbers_rdd.collect()\n",
    "print(\"\\nEven Numbers:\")\n",
    "print(even_numbers)"
   ]
  }
 ],
 "metadata": {
  "kernelspec": {
   "display_name": "Python [conda env:base] *",
   "language": "python",
   "name": "conda-base-py"
  },
  "language_info": {
   "codemirror_mode": {
    "name": "ipython",
    "version": 3
   },
   "file_extension": ".py",
   "mimetype": "text/x-python",
   "name": "python",
   "nbconvert_exporter": "python",
   "pygments_lexer": "ipython3",
   "version": "3.11.11"
  }
 },
 "nbformat": 4,
 "nbformat_minor": 5
}
